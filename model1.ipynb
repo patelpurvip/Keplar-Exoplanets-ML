{
 "cells": [
  {
   "cell_type": "code",
   "execution_count": 1,
   "metadata": {
    "tags": []
   },
   "outputs": [
    {
     "output_type": "stream",
     "name": "stdout",
     "text": "Requirement already up-to-date: sklearn in c:\\users\\purvi patel\\anaconda3\\lib\\site-packages (0.0)\nRequirement already satisfied, skipping upgrade: scikit-learn in c:\\users\\purvi patel\\anaconda3\\lib\\site-packages (from sklearn) (0.21.3)\nRequirement already satisfied, skipping upgrade: numpy>=1.11.0 in c:\\users\\purvi patel\\anaconda3\\lib\\site-packages (from scikit-learn->sklearn) (1.16.5)\nRequirement already satisfied, skipping upgrade: scipy>=0.17.0 in c:\\users\\purvi patel\\anaconda3\\lib\\site-packages (from scikit-learn->sklearn) (1.3.1)\nRequirement already satisfied, skipping upgrade: joblib>=0.11 in c:\\users\\purvi patel\\anaconda3\\lib\\site-packages (from scikit-learn->sklearn) (0.13.2)\n"
    }
   ],
   "source": [
    "# Updating sklearn to prevent version mismatches\n",
    "!pip install sklearn --upgrade"
   ]
  },
  {
   "cell_type": "code",
   "execution_count": 2,
   "metadata": {
    "tags": []
   },
   "outputs": [
    {
     "output_type": "stream",
     "name": "stdout",
     "text": "Requirement already satisfied: joblib in c:\\users\\purvi patel\\anaconda3\\lib\\site-packages (0.13.2)\n"
    }
   ],
   "source": [
    "# installing joblib. This will be used to save your model. \n",
    "# Restarting the kernel after installing \n",
    "!pip install joblib"
   ]
  },
  {
   "cell_type": "code",
   "execution_count": 3,
   "metadata": {},
   "outputs": [],
   "source": [
    "import pandas as pd"
   ]
  },
  {
   "cell_type": "markdown",
   "metadata": {},
   "source": [
    "# Read the CSV and Perform Basic Data Cleaning"
   ]
  },
  {
   "cell_type": "code",
   "execution_count": 4,
   "metadata": {},
   "outputs": [
    {
     "output_type": "execute_result",
     "data": {
      "text/plain": "  koi_disposition  koi_fpflag_nt  koi_fpflag_ss  koi_fpflag_co  koi_fpflag_ec  \\\n0       CONFIRMED              0              0              0              0   \n1  FALSE POSITIVE              0              1              0              0   \n2  FALSE POSITIVE              0              1              0              0   \n3       CONFIRMED              0              0              0              0   \n4       CONFIRMED              0              0              0              0   \n\n   koi_period  koi_period_err1  koi_period_err2  koi_time0bk  \\\n0   54.418383     2.479000e-04    -2.479000e-04   162.513840   \n1   19.899140     1.490000e-05    -1.490000e-05   175.850252   \n2    1.736952     2.630000e-07    -2.630000e-07   170.307565   \n3    2.525592     3.760000e-06    -3.760000e-06   171.595550   \n4    4.134435     1.050000e-05    -1.050000e-05   172.979370   \n\n   koi_time0bk_err1  ...  koi_steff_err2  koi_slogg  koi_slogg_err1  \\\n0          0.003520  ...             -81      4.467           0.064   \n1          0.000581  ...            -176      4.544           0.044   \n2          0.000115  ...            -174      4.564           0.053   \n3          0.001130  ...            -211      4.438           0.070   \n4          0.001900  ...            -232      4.486           0.054   \n\n   koi_slogg_err2  koi_srad  koi_srad_err1  koi_srad_err2         ra  \\\n0          -0.096     0.927          0.105         -0.061  291.93423   \n1          -0.176     0.868          0.233         -0.078  297.00482   \n2          -0.168     0.791          0.201         -0.067  285.53461   \n3          -0.210     1.046          0.334         -0.133  288.75488   \n4          -0.229     0.972          0.315         -0.105  296.28613   \n\n         dec  koi_kepmag  \n0  48.141651      15.347  \n1  48.134129      15.436  \n2  48.285210      15.597  \n3  48.226200      15.509  \n4  48.224670      15.714  \n\n[5 rows x 41 columns]",
      "text/html": "<div>\n<style scoped>\n    .dataframe tbody tr th:only-of-type {\n        vertical-align: middle;\n    }\n\n    .dataframe tbody tr th {\n        vertical-align: top;\n    }\n\n    .dataframe thead th {\n        text-align: right;\n    }\n</style>\n<table border=\"1\" class=\"dataframe\">\n  <thead>\n    <tr style=\"text-align: right;\">\n      <th></th>\n      <th>koi_disposition</th>\n      <th>koi_fpflag_nt</th>\n      <th>koi_fpflag_ss</th>\n      <th>koi_fpflag_co</th>\n      <th>koi_fpflag_ec</th>\n      <th>koi_period</th>\n      <th>koi_period_err1</th>\n      <th>koi_period_err2</th>\n      <th>koi_time0bk</th>\n      <th>koi_time0bk_err1</th>\n      <th>...</th>\n      <th>koi_steff_err2</th>\n      <th>koi_slogg</th>\n      <th>koi_slogg_err1</th>\n      <th>koi_slogg_err2</th>\n      <th>koi_srad</th>\n      <th>koi_srad_err1</th>\n      <th>koi_srad_err2</th>\n      <th>ra</th>\n      <th>dec</th>\n      <th>koi_kepmag</th>\n    </tr>\n  </thead>\n  <tbody>\n    <tr>\n      <td>0</td>\n      <td>CONFIRMED</td>\n      <td>0</td>\n      <td>0</td>\n      <td>0</td>\n      <td>0</td>\n      <td>54.418383</td>\n      <td>2.479000e-04</td>\n      <td>-2.479000e-04</td>\n      <td>162.513840</td>\n      <td>0.003520</td>\n      <td>...</td>\n      <td>-81</td>\n      <td>4.467</td>\n      <td>0.064</td>\n      <td>-0.096</td>\n      <td>0.927</td>\n      <td>0.105</td>\n      <td>-0.061</td>\n      <td>291.93423</td>\n      <td>48.141651</td>\n      <td>15.347</td>\n    </tr>\n    <tr>\n      <td>1</td>\n      <td>FALSE POSITIVE</td>\n      <td>0</td>\n      <td>1</td>\n      <td>0</td>\n      <td>0</td>\n      <td>19.899140</td>\n      <td>1.490000e-05</td>\n      <td>-1.490000e-05</td>\n      <td>175.850252</td>\n      <td>0.000581</td>\n      <td>...</td>\n      <td>-176</td>\n      <td>4.544</td>\n      <td>0.044</td>\n      <td>-0.176</td>\n      <td>0.868</td>\n      <td>0.233</td>\n      <td>-0.078</td>\n      <td>297.00482</td>\n      <td>48.134129</td>\n      <td>15.436</td>\n    </tr>\n    <tr>\n      <td>2</td>\n      <td>FALSE POSITIVE</td>\n      <td>0</td>\n      <td>1</td>\n      <td>0</td>\n      <td>0</td>\n      <td>1.736952</td>\n      <td>2.630000e-07</td>\n      <td>-2.630000e-07</td>\n      <td>170.307565</td>\n      <td>0.000115</td>\n      <td>...</td>\n      <td>-174</td>\n      <td>4.564</td>\n      <td>0.053</td>\n      <td>-0.168</td>\n      <td>0.791</td>\n      <td>0.201</td>\n      <td>-0.067</td>\n      <td>285.53461</td>\n      <td>48.285210</td>\n      <td>15.597</td>\n    </tr>\n    <tr>\n      <td>3</td>\n      <td>CONFIRMED</td>\n      <td>0</td>\n      <td>0</td>\n      <td>0</td>\n      <td>0</td>\n      <td>2.525592</td>\n      <td>3.760000e-06</td>\n      <td>-3.760000e-06</td>\n      <td>171.595550</td>\n      <td>0.001130</td>\n      <td>...</td>\n      <td>-211</td>\n      <td>4.438</td>\n      <td>0.070</td>\n      <td>-0.210</td>\n      <td>1.046</td>\n      <td>0.334</td>\n      <td>-0.133</td>\n      <td>288.75488</td>\n      <td>48.226200</td>\n      <td>15.509</td>\n    </tr>\n    <tr>\n      <td>4</td>\n      <td>CONFIRMED</td>\n      <td>0</td>\n      <td>0</td>\n      <td>0</td>\n      <td>0</td>\n      <td>4.134435</td>\n      <td>1.050000e-05</td>\n      <td>-1.050000e-05</td>\n      <td>172.979370</td>\n      <td>0.001900</td>\n      <td>...</td>\n      <td>-232</td>\n      <td>4.486</td>\n      <td>0.054</td>\n      <td>-0.229</td>\n      <td>0.972</td>\n      <td>0.315</td>\n      <td>-0.105</td>\n      <td>296.28613</td>\n      <td>48.224670</td>\n      <td>15.714</td>\n    </tr>\n  </tbody>\n</table>\n<p>5 rows × 41 columns</p>\n</div>"
     },
     "metadata": {},
     "execution_count": 4
    }
   ],
   "source": [
    "keplar_data = pd.read_csv(\"Resources/exoplanet_data.csv\")\n",
    "\n",
    "# Dropping null columns where all values are null\n",
    "keplar_data = keplar_data.dropna(axis='columns', how='all')\n",
    "\n",
    "# Dropping any null rows\n",
    "keplar_data = keplar_data.dropna()\n",
    "keplar_data.head()"
   ]
  },
  {
   "cell_type": "markdown",
   "metadata": {},
   "source": [
    "# Select your features (columns)"
   ]
  },
  {
   "cell_type": "code",
   "execution_count": 5,
   "metadata": {},
   "outputs": [
    {
     "output_type": "execute_result",
     "data": {
      "text/plain": "Index(['koi_disposition', 'koi_fpflag_nt', 'koi_fpflag_ss', 'koi_fpflag_co',\n       'koi_fpflag_ec', 'koi_period', 'koi_period_err1', 'koi_period_err2',\n       'koi_time0bk', 'koi_time0bk_err1', 'koi_time0bk_err2', 'koi_impact',\n       'koi_impact_err1', 'koi_impact_err2', 'koi_duration',\n       'koi_duration_err1', 'koi_duration_err2', 'koi_depth', 'koi_depth_err1',\n       'koi_depth_err2', 'koi_prad', 'koi_prad_err1', 'koi_prad_err2',\n       'koi_teq', 'koi_insol', 'koi_insol_err1', 'koi_insol_err2',\n       'koi_model_snr', 'koi_tce_plnt_num', 'koi_steff', 'koi_steff_err1',\n       'koi_steff_err2', 'koi_slogg', 'koi_slogg_err1', 'koi_slogg_err2',\n       'koi_srad', 'koi_srad_err1', 'koi_srad_err2', 'ra', 'dec',\n       'koi_kepmag'],\n      dtype='object')"
     },
     "metadata": {},
     "execution_count": 5
    }
   ],
   "source": [
    "keplar_data.columns"
   ]
  },
  {
   "cell_type": "code",
   "execution_count": 6,
   "metadata": {
    "tags": []
   },
   "outputs": [
    {
     "output_type": "execute_result",
     "data": {
      "text/plain": "   koi_fpflag_nt  koi_fpflag_ss  koi_fpflag_co  koi_fpflag_ec  koi_period  \\\n0              0              0              0              0   54.418383   \n1              0              1              0              0   19.899140   \n2              0              1              0              0    1.736952   \n3              0              0              0              0    2.525592   \n4              0              0              0              0    4.134435   \n\n   koi_time0bk  koi_impact  koi_duration  koi_depth  koi_prad  koi_teq  \\\n0   162.513840       0.586       4.50700      874.8      2.83      443   \n1   175.850252       0.969       1.78220    10829.0     14.60      638   \n2   170.307565       1.276       2.40641     8079.2     33.46     1395   \n3   171.595550       0.701       1.65450      603.3      2.75     1406   \n4   172.979370       0.762       3.14020      686.0      2.77     1160   \n\n   koi_insol  koi_model_snr  koi_tce_plnt_num  koi_steff  koi_slogg  koi_srad  \\\n0       9.11           25.8                 2       5455      4.467     0.927   \n1      39.30           76.3                 1       5853      4.544     0.868   \n2     891.96          505.6                 1       5805      4.564     0.791   \n3     926.16           40.9                 1       6031      4.438     1.046   \n4     427.65           40.2                 2       6046      4.486     0.972   \n\n          ra        dec  koi_kepmag  \n0  291.93423  48.141651      15.347  \n1  297.00482  48.134129      15.436  \n2  285.53461  48.285210      15.597  \n3  288.75488  48.226200      15.509  \n4  296.28613  48.224670      15.714  ",
      "text/html": "<div>\n<style scoped>\n    .dataframe tbody tr th:only-of-type {\n        vertical-align: middle;\n    }\n\n    .dataframe tbody tr th {\n        vertical-align: top;\n    }\n\n    .dataframe thead th {\n        text-align: right;\n    }\n</style>\n<table border=\"1\" class=\"dataframe\">\n  <thead>\n    <tr style=\"text-align: right;\">\n      <th></th>\n      <th>koi_fpflag_nt</th>\n      <th>koi_fpflag_ss</th>\n      <th>koi_fpflag_co</th>\n      <th>koi_fpflag_ec</th>\n      <th>koi_period</th>\n      <th>koi_time0bk</th>\n      <th>koi_impact</th>\n      <th>koi_duration</th>\n      <th>koi_depth</th>\n      <th>koi_prad</th>\n      <th>koi_teq</th>\n      <th>koi_insol</th>\n      <th>koi_model_snr</th>\n      <th>koi_tce_plnt_num</th>\n      <th>koi_steff</th>\n      <th>koi_slogg</th>\n      <th>koi_srad</th>\n      <th>ra</th>\n      <th>dec</th>\n      <th>koi_kepmag</th>\n    </tr>\n  </thead>\n  <tbody>\n    <tr>\n      <td>0</td>\n      <td>0</td>\n      <td>0</td>\n      <td>0</td>\n      <td>0</td>\n      <td>54.418383</td>\n      <td>162.513840</td>\n      <td>0.586</td>\n      <td>4.50700</td>\n      <td>874.8</td>\n      <td>2.83</td>\n      <td>443</td>\n      <td>9.11</td>\n      <td>25.8</td>\n      <td>2</td>\n      <td>5455</td>\n      <td>4.467</td>\n      <td>0.927</td>\n      <td>291.93423</td>\n      <td>48.141651</td>\n      <td>15.347</td>\n    </tr>\n    <tr>\n      <td>1</td>\n      <td>0</td>\n      <td>1</td>\n      <td>0</td>\n      <td>0</td>\n      <td>19.899140</td>\n      <td>175.850252</td>\n      <td>0.969</td>\n      <td>1.78220</td>\n      <td>10829.0</td>\n      <td>14.60</td>\n      <td>638</td>\n      <td>39.30</td>\n      <td>76.3</td>\n      <td>1</td>\n      <td>5853</td>\n      <td>4.544</td>\n      <td>0.868</td>\n      <td>297.00482</td>\n      <td>48.134129</td>\n      <td>15.436</td>\n    </tr>\n    <tr>\n      <td>2</td>\n      <td>0</td>\n      <td>1</td>\n      <td>0</td>\n      <td>0</td>\n      <td>1.736952</td>\n      <td>170.307565</td>\n      <td>1.276</td>\n      <td>2.40641</td>\n      <td>8079.2</td>\n      <td>33.46</td>\n      <td>1395</td>\n      <td>891.96</td>\n      <td>505.6</td>\n      <td>1</td>\n      <td>5805</td>\n      <td>4.564</td>\n      <td>0.791</td>\n      <td>285.53461</td>\n      <td>48.285210</td>\n      <td>15.597</td>\n    </tr>\n    <tr>\n      <td>3</td>\n      <td>0</td>\n      <td>0</td>\n      <td>0</td>\n      <td>0</td>\n      <td>2.525592</td>\n      <td>171.595550</td>\n      <td>0.701</td>\n      <td>1.65450</td>\n      <td>603.3</td>\n      <td>2.75</td>\n      <td>1406</td>\n      <td>926.16</td>\n      <td>40.9</td>\n      <td>1</td>\n      <td>6031</td>\n      <td>4.438</td>\n      <td>1.046</td>\n      <td>288.75488</td>\n      <td>48.226200</td>\n      <td>15.509</td>\n    </tr>\n    <tr>\n      <td>4</td>\n      <td>0</td>\n      <td>0</td>\n      <td>0</td>\n      <td>0</td>\n      <td>4.134435</td>\n      <td>172.979370</td>\n      <td>0.762</td>\n      <td>3.14020</td>\n      <td>686.0</td>\n      <td>2.77</td>\n      <td>1160</td>\n      <td>427.65</td>\n      <td>40.2</td>\n      <td>2</td>\n      <td>6046</td>\n      <td>4.486</td>\n      <td>0.972</td>\n      <td>296.28613</td>\n      <td>48.224670</td>\n      <td>15.714</td>\n    </tr>\n  </tbody>\n</table>\n</div>"
     },
     "metadata": {},
     "execution_count": 6
    }
   ],
   "source": [
    "# Setting features -- eliminating error columns for this model\n",
    "\n",
    "selected_features = keplar_data[['koi_fpflag_nt', 'koi_fpflag_ss', 'koi_fpflag_co', 'koi_fpflag_ec', 'koi_period', 'koi_time0bk', 'koi_impact', 'koi_duration', 'koi_depth', 'koi_prad', 'koi_teq', 'koi_insol', 'koi_model_snr', 'koi_tce_plnt_num', 'koi_steff', 'koi_slogg', 'koi_srad', 'ra', 'dec', 'koi_kepmag']]\n",
    "selected_features.head()"
   ]
  },
  {
   "cell_type": "markdown",
   "metadata": {},
   "source": [
    "# Create a Train Test Split\n",
    "\n",
    "Using `koi_disposition` for the y values"
   ]
  },
  {
   "cell_type": "code",
   "execution_count": 7,
   "metadata": {
    "tags": []
   },
   "outputs": [
    {
     "output_type": "stream",
     "name": "stdout",
     "text": "(6991, 20) (6991, 1)\n"
    }
   ],
   "source": [
    "x = selected_features\n",
    "y = keplar_data[['koi_disposition']]\n",
    "print(x.shape, y.shape)"
   ]
  },
  {
   "cell_type": "code",
   "execution_count": 8,
   "metadata": {},
   "outputs": [],
   "source": [
    "# x.values.reshape(-1,1)\n",
    "# y.values.reshape(-1,1)\n",
    "# print(x.shape, y.shape)"
   ]
  },
  {
   "cell_type": "code",
   "execution_count": 9,
   "metadata": {},
   "outputs": [
    {
     "output_type": "execute_result",
     "data": {
      "text/plain": "      koi_fpflag_nt  koi_fpflag_ss  koi_fpflag_co  koi_fpflag_ec  koi_period  \\\n6122              0              0              0              0    6.768901   \n6370              0              1              0              1    0.733726   \n2879              1              0              0              0    7.652707   \n107               0              0              0              0    7.953547   \n29                0              0              0              0    4.959319   \n\n      koi_time0bk  koi_impact  koi_duration  koi_depth  koi_prad  koi_teq  \\\n6122   133.077240       0.150       3.61600      123.1      1.24     1017   \n6370   132.020050       0.291       2.30900      114.6      0.86     1867   \n2879   134.460380       0.970      79.89690      641.1      3.21      989   \n107    174.662240       0.300       2.63120      875.4      2.25      696   \n29     172.258529       0.831       2.22739     9802.0     12.21     1103   \n\n      koi_insol  koi_model_snr  koi_tce_plnt_num  koi_steff  koi_slogg  \\\n6122     253.30           10.8                 1       5737      4.327   \n6370    2891.64           13.8                 1       5855      4.578   \n2879     226.81          254.3                 1       6328      4.481   \n107       55.37           38.4                 1       4768      4.536   \n29       349.40          696.5                 1       5712      4.359   \n\n      koi_srad         ra        dec  koi_kepmag  \n6122     1.125  294.40472  39.351681      14.725  \n6370     0.797  284.50391  42.463860      15.770  \n2879     0.963  295.50211  38.983540      13.099  \n107      0.779  291.15878  40.750271      15.660  \n29       1.082  292.16705  48.727589      15.263  ",
      "text/html": "<div>\n<style scoped>\n    .dataframe tbody tr th:only-of-type {\n        vertical-align: middle;\n    }\n\n    .dataframe tbody tr th {\n        vertical-align: top;\n    }\n\n    .dataframe thead th {\n        text-align: right;\n    }\n</style>\n<table border=\"1\" class=\"dataframe\">\n  <thead>\n    <tr style=\"text-align: right;\">\n      <th></th>\n      <th>koi_fpflag_nt</th>\n      <th>koi_fpflag_ss</th>\n      <th>koi_fpflag_co</th>\n      <th>koi_fpflag_ec</th>\n      <th>koi_period</th>\n      <th>koi_time0bk</th>\n      <th>koi_impact</th>\n      <th>koi_duration</th>\n      <th>koi_depth</th>\n      <th>koi_prad</th>\n      <th>koi_teq</th>\n      <th>koi_insol</th>\n      <th>koi_model_snr</th>\n      <th>koi_tce_plnt_num</th>\n      <th>koi_steff</th>\n      <th>koi_slogg</th>\n      <th>koi_srad</th>\n      <th>ra</th>\n      <th>dec</th>\n      <th>koi_kepmag</th>\n    </tr>\n  </thead>\n  <tbody>\n    <tr>\n      <td>6122</td>\n      <td>0</td>\n      <td>0</td>\n      <td>0</td>\n      <td>0</td>\n      <td>6.768901</td>\n      <td>133.077240</td>\n      <td>0.150</td>\n      <td>3.61600</td>\n      <td>123.1</td>\n      <td>1.24</td>\n      <td>1017</td>\n      <td>253.30</td>\n      <td>10.8</td>\n      <td>1</td>\n      <td>5737</td>\n      <td>4.327</td>\n      <td>1.125</td>\n      <td>294.40472</td>\n      <td>39.351681</td>\n      <td>14.725</td>\n    </tr>\n    <tr>\n      <td>6370</td>\n      <td>0</td>\n      <td>1</td>\n      <td>0</td>\n      <td>1</td>\n      <td>0.733726</td>\n      <td>132.020050</td>\n      <td>0.291</td>\n      <td>2.30900</td>\n      <td>114.6</td>\n      <td>0.86</td>\n      <td>1867</td>\n      <td>2891.64</td>\n      <td>13.8</td>\n      <td>1</td>\n      <td>5855</td>\n      <td>4.578</td>\n      <td>0.797</td>\n      <td>284.50391</td>\n      <td>42.463860</td>\n      <td>15.770</td>\n    </tr>\n    <tr>\n      <td>2879</td>\n      <td>1</td>\n      <td>0</td>\n      <td>0</td>\n      <td>0</td>\n      <td>7.652707</td>\n      <td>134.460380</td>\n      <td>0.970</td>\n      <td>79.89690</td>\n      <td>641.1</td>\n      <td>3.21</td>\n      <td>989</td>\n      <td>226.81</td>\n      <td>254.3</td>\n      <td>1</td>\n      <td>6328</td>\n      <td>4.481</td>\n      <td>0.963</td>\n      <td>295.50211</td>\n      <td>38.983540</td>\n      <td>13.099</td>\n    </tr>\n    <tr>\n      <td>107</td>\n      <td>0</td>\n      <td>0</td>\n      <td>0</td>\n      <td>0</td>\n      <td>7.953547</td>\n      <td>174.662240</td>\n      <td>0.300</td>\n      <td>2.63120</td>\n      <td>875.4</td>\n      <td>2.25</td>\n      <td>696</td>\n      <td>55.37</td>\n      <td>38.4</td>\n      <td>1</td>\n      <td>4768</td>\n      <td>4.536</td>\n      <td>0.779</td>\n      <td>291.15878</td>\n      <td>40.750271</td>\n      <td>15.660</td>\n    </tr>\n    <tr>\n      <td>29</td>\n      <td>0</td>\n      <td>0</td>\n      <td>0</td>\n      <td>0</td>\n      <td>4.959319</td>\n      <td>172.258529</td>\n      <td>0.831</td>\n      <td>2.22739</td>\n      <td>9802.0</td>\n      <td>12.21</td>\n      <td>1103</td>\n      <td>349.40</td>\n      <td>696.5</td>\n      <td>1</td>\n      <td>5712</td>\n      <td>4.359</td>\n      <td>1.082</td>\n      <td>292.16705</td>\n      <td>48.727589</td>\n      <td>15.263</td>\n    </tr>\n  </tbody>\n</table>\n</div>"
     },
     "metadata": {},
     "execution_count": 9
    }
   ],
   "source": [
    "from sklearn.model_selection import train_test_split\n",
    "# y = pd.get_dummies(y)\n",
    "\n",
    "x_train, x_test, y_train, y_test = train_test_split(x, y, random_state=42)\n",
    "x_train.head()"
   ]
  },
  {
   "cell_type": "markdown",
   "metadata": {},
   "source": [
    "# Pre-processing\n",
    "\n",
    "Scaling the data using the StandardScalar (instead of MinMaxScaler) and performing some feature selection"
   ]
  },
  {
   "cell_type": "code",
   "execution_count": 10,
   "metadata": {},
   "outputs": [],
   "source": [
    "from sklearn.preprocessing import LabelEncoder, StandardScaler\n",
    "x_scaler = StandardScaler().fit(x_train)\n",
    "y_encoded = LabelEncoder().fit(y_train)\n",
    "\n",
    "x_scaler_train = x_scaler.transform(x_train)\n",
    "x_scaler_test = x_scaler.transform(x_test)\n",
    "y_encoded_train = y_encoded.transform(y_train)\n",
    "y_encoded_test = y_encoded.transform(y_test)"
   ]
  },
  {
   "cell_type": "markdown",
   "metadata": {},
   "source": [
    "# Train the Model\n",
    "\n"
   ]
  },
  {
   "cell_type": "code",
   "execution_count": 11,
   "metadata": {},
   "outputs": [
    {
     "output_type": "execute_result",
     "data": {
      "text/plain": "SVC(C=1.0, cache_size=200, class_weight=None, coef0=0.0,\n    decision_function_shape='ovr', degree=3, gamma='auto_deprecated',\n    kernel='linear', max_iter=-1, probability=False, random_state=None,\n    shrinking=True, tol=0.001, verbose=False)"
     },
     "metadata": {},
     "execution_count": 11
    }
   ],
   "source": [
    "from sklearn.svm import SVC\n",
    "\n",
    "model1 = SVC(kernel='linear')\n",
    "model1.fit(x_scaler_train, y_encoded_train)\n",
    "predictions = model1.predict(x_scaler_test)\n",
    "model1"
   ]
  },
  {
   "cell_type": "code",
   "execution_count": 12,
   "metadata": {
    "tags": []
   },
   "outputs": [
    {
     "output_type": "stream",
     "name": "stdout",
     "text": "Training Data Score: 0.8247186725157353\nTesting Data Score: 0.8089244851258581\n"
    }
   ],
   "source": [
    "print(f\"Training Data Score: {model1.score(x_scaler_train, y_encoded_train)}\")\n",
    "print(f\"Testing Data Score: {model1.score(x_scaler_test, y_encoded_test)}\")"
   ]
  },
  {
   "cell_type": "code",
   "execution_count": 13,
   "metadata": {
    "tags": []
   },
   "outputs": [
    {
     "output_type": "stream",
     "name": "stdout",
     "text": "precision    recall  f1-score   support\n\n     confirmed       0.61      0.60      0.60       411\nfalse positive       0.67      0.66      0.66       484\n     candidate       0.98      1.00      0.99       853\n\n      accuracy                           0.81      1748\n     macro avg       0.75      0.75      0.75      1748\n  weighted avg       0.81      0.81      0.81      1748\n\n"
    }
   ],
   "source": [
    "\n",
    "# classification report\n",
    "from sklearn.metrics import classification_report\n",
    "print(classification_report(y_encoded_test, predictions,\n",
    "                           target_names =[\"confirmed\", \"false positive\", \"candidate\"]))"
   ]
  },
  {
   "cell_type": "markdown",
   "metadata": {},
   "source": [
    "# Hyperparameter Tuning\n",
    "\n",
    "Using `GridSearchCV` to tune the model's parameters"
   ]
  },
  {
   "cell_type": "code",
   "execution_count": 14,
   "metadata": {},
   "outputs": [],
   "source": [
    "from sklearn.model_selection import GridSearchCV\n",
    "param_grid = {\"C\": [1, 5, 10,50],\n",
    "            \"gamma\": [0.0001, 0.0005, 0.001, 0.005]}\n",
    "grid = GridSearchCV(model1, param_grid, verbose=3)"
   ]
  },
  {
   "cell_type": "code",
   "execution_count": 15,
   "metadata": {
    "tags": []
   },
   "outputs": [
    {
     "output_type": "stream",
     "name": "stdout",
     "text": "Fitting 3 folds for each of 16 candidates, totalling 48 fits\n[CV] C=1, gamma=0.0001 ...............................................\n[Parallel(n_jobs=1)]: Using backend SequentialBackend with 1 concurrent workers.\n[CV] ................... C=1, gamma=0.0001, score=0.830, total=   0.4s\n[CV] C=1, gamma=0.0001 ...............................................\n[Parallel(n_jobs=1)]: Done   1 out of   1 | elapsed:    0.3s remaining:    0.0s\n[CV] ................... C=1, gamma=0.0001, score=0.820, total=   0.3s\n[CV] C=1, gamma=0.0001 ...............................................\n[Parallel(n_jobs=1)]: Done   2 out of   2 | elapsed:    0.6s remaining:    0.0s\n[CV] ................... C=1, gamma=0.0001, score=0.820, total=   0.3s\n[CV] C=1, gamma=0.0005 ...............................................\n[CV] ................... C=1, gamma=0.0005, score=0.830, total=   0.4s\n[CV] C=1, gamma=0.0005 ...............................................\n[CV] ................... C=1, gamma=0.0005, score=0.820, total=   0.3s\n[CV] C=1, gamma=0.0005 ...............................................\n[CV] ................... C=1, gamma=0.0005, score=0.820, total=   0.3s\n[CV] C=1, gamma=0.001 ................................................\n[CV] .................... C=1, gamma=0.001, score=0.830, total=   0.3s\n[CV] C=1, gamma=0.001 ................................................\n[CV] .................... C=1, gamma=0.001, score=0.820, total=   0.3s\n[CV] C=1, gamma=0.001 ................................................\n[CV] .................... C=1, gamma=0.001, score=0.820, total=   0.3s\n[CV] C=1, gamma=0.005 ................................................\n[CV] .................... C=1, gamma=0.005, score=0.830, total=   0.3s\n[CV] C=1, gamma=0.005 ................................................\n[CV] .................... C=1, gamma=0.005, score=0.820, total=   0.3s\n[CV] C=1, gamma=0.005 ................................................\n[CV] .................... C=1, gamma=0.005, score=0.820, total=   0.3s\n[CV] C=5, gamma=0.0001 ...............................................\n[CV] ................... C=5, gamma=0.0001, score=0.837, total=   0.7s\n[CV] C=5, gamma=0.0001 ...............................................\n[CV] ................... C=5, gamma=0.0001, score=0.825, total=   1.1s\n[CV] C=5, gamma=0.0001 ...............................................\n[CV] ................... C=5, gamma=0.0001, score=0.821, total=   0.9s\n[CV] C=5, gamma=0.0005 ...............................................\n[CV] ................... C=5, gamma=0.0005, score=0.837, total=   0.7s\n[CV] C=5, gamma=0.0005 ...............................................\n[CV] ................... C=5, gamma=0.0005, score=0.825, total=   1.1s\n[CV] C=5, gamma=0.0005 ...............................................\n[CV] ................... C=5, gamma=0.0005, score=0.821, total=   0.9s\n[CV] C=5, gamma=0.001 ................................................\n[CV] .................... C=5, gamma=0.001, score=0.837, total=   0.7s\n[CV] C=5, gamma=0.001 ................................................\n[CV] .................... C=5, gamma=0.001, score=0.825, total=   1.1s\n[CV] C=5, gamma=0.001 ................................................\n[CV] .................... C=5, gamma=0.001, score=0.821, total=   0.9s\n[CV] C=5, gamma=0.005 ................................................\n[CV] .................... C=5, gamma=0.005, score=0.837, total=   0.7s\n[CV] C=5, gamma=0.005 ................................................\n[CV] .................... C=5, gamma=0.005, score=0.825, total=   1.1s\n[CV] C=5, gamma=0.005 ................................................\n[CV] .................... C=5, gamma=0.005, score=0.821, total=   0.9s\n[CV] C=10, gamma=0.0001 ..............................................\n[CV] .................. C=10, gamma=0.0001, score=0.838, total=   1.3s\n[CV] C=10, gamma=0.0001 ..............................................\n[CV] .................. C=10, gamma=0.0001, score=0.829, total=   1.8s\n[CV] C=10, gamma=0.0001 ..............................................\n[CV] .................. C=10, gamma=0.0001, score=0.822, total=   1.1s\n[CV] C=10, gamma=0.0005 ..............................................\n[CV] .................. C=10, gamma=0.0005, score=0.838, total=   1.3s\n[CV] C=10, gamma=0.0005 ..............................................\n[CV] .................. C=10, gamma=0.0005, score=0.829, total=   1.8s\n[CV] C=10, gamma=0.0005 ..............................................\n[CV] .................. C=10, gamma=0.0005, score=0.822, total=   1.1s\n[CV] C=10, gamma=0.001 ...............................................\n[CV] ................... C=10, gamma=0.001, score=0.838, total=   1.4s\n[CV] C=10, gamma=0.001 ...............................................\n[CV] ................... C=10, gamma=0.001, score=0.829, total=   1.8s\n[CV] C=10, gamma=0.001 ...............................................\n[CV] ................... C=10, gamma=0.001, score=0.822, total=   1.1s\n[CV] C=10, gamma=0.005 ...............................................\n[CV] ................... C=10, gamma=0.005, score=0.838, total=   1.3s\n[CV] C=10, gamma=0.005 ...............................................\n[CV] ................... C=10, gamma=0.005, score=0.829, total=   1.8s\n[CV] C=10, gamma=0.005 ...............................................\n[CV] ................... C=10, gamma=0.005, score=0.822, total=   1.1s\n[CV] C=50, gamma=0.0001 ..............................................\n[CV] .................. C=50, gamma=0.0001, score=0.839, total=   3.7s\n[CV] C=50, gamma=0.0001 ..............................................\n[CV] .................. C=50, gamma=0.0001, score=0.831, total=   4.8s\n[CV] C=50, gamma=0.0001 ..............................................\n[CV] .................. C=50, gamma=0.0001, score=0.829, total=   3.0s\n[CV] C=50, gamma=0.0005 ..............................................\n[CV] .................. C=50, gamma=0.0005, score=0.839, total=   3.9s\n[CV] C=50, gamma=0.0005 ..............................................\n[CV] .................. C=50, gamma=0.0005, score=0.831, total=   4.8s\n[CV] C=50, gamma=0.0005 ..............................................\n[CV] .................. C=50, gamma=0.0005, score=0.829, total=   3.1s\n[CV] C=50, gamma=0.001 ...............................................\n[CV] ................... C=50, gamma=0.001, score=0.839, total=   3.8s\n[CV] C=50, gamma=0.001 ...............................................\n[CV] ................... C=50, gamma=0.001, score=0.831, total=   5.2s\n[CV] C=50, gamma=0.001 ...............................................\n[CV] ................... C=50, gamma=0.001, score=0.829, total=   3.9s\n[CV] C=50, gamma=0.005 ...............................................\n[CV] ................... C=50, gamma=0.005, score=0.839, total=   4.4s\n[CV] C=50, gamma=0.005 ...............................................\n[CV] ................... C=50, gamma=0.005, score=0.831, total=   4.8s\n[CV] C=50, gamma=0.005 ...............................................\n[CV] ................... C=50, gamma=0.005, score=0.829, total=   3.2s\n[Parallel(n_jobs=1)]: Done  48 out of  48 | elapsed:  1.3min finished\n"
    },
    {
     "output_type": "execute_result",
     "data": {
      "text/plain": "GridSearchCV(cv='warn', error_score='raise-deprecating',\n             estimator=SVC(C=1.0, cache_size=200, class_weight=None, coef0=0.0,\n                           decision_function_shape='ovr', degree=3,\n                           gamma='auto_deprecated', kernel='linear',\n                           max_iter=-1, probability=False, random_state=None,\n                           shrinking=True, tol=0.001, verbose=False),\n             iid='warn', n_jobs=None,\n             param_grid={'C': [1, 5, 10, 50],\n                         'gamma': [0.0001, 0.0005, 0.001, 0.005]},\n             pre_dispatch='2*n_jobs', refit=True, return_train_score=False,\n             scoring=None, verbose=3)"
     },
     "metadata": {},
     "execution_count": 15
    }
   ],
   "source": [
    "# Training the model with GridSearch\n",
    "grid.fit(x_scaler_train, y_encoded_train)"
   ]
  },
  {
   "cell_type": "code",
   "execution_count": 16,
   "metadata": {
    "tags": []
   },
   "outputs": [
    {
     "output_type": "stream",
     "name": "stdout",
     "text": "{'C': 50, 'gamma': 0.0001}\n0.8331108144192256\n"
    }
   ],
   "source": [
    "print(grid.best_params_)\n",
    "print(grid.best_score_)"
   ]
  },
  {
   "cell_type": "markdown",
   "metadata": {},
   "source": [
    "# Save the Model"
   ]
  },
  {
   "cell_type": "code",
   "execution_count": 17,
   "metadata": {},
   "outputs": [
    {
     "output_type": "execute_result",
     "data": {
      "text/plain": "['PPatel_model1.sav']"
     },
     "metadata": {},
     "execution_count": 17
    }
   ],
   "source": [
    "import joblib\n",
    "filename = 'PPatel_model1.sav'\n",
    "joblib.dump(model1, filename)"
   ]
  }
 ],
 "metadata": {
  "kernel_info": {
   "name": "dev"
  },
  "kernelspec": {
   "display_name": "Python 3.7.4 64-bit ('base': conda)",
   "language": "python",
   "name": "python37464bitbasecondae861a842cf624318a7290d59283a4372"
  },
  "language_info": {
   "codemirror_mode": {
    "name": "ipython",
    "version": 3
   },
   "file_extension": ".py",
   "mimetype": "text/x-python",
   "name": "python",
   "nbconvert_exporter": "python",
   "pygments_lexer": "ipython3",
   "version": "3.7.4-final"
  },
  "nteract": {
   "version": "0.12.3"
  }
 },
 "nbformat": 4,
 "nbformat_minor": 2
}