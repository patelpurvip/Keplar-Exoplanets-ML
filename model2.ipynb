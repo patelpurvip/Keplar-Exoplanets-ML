{
 "cells": [
  {
   "cell_type": "markdown",
   "metadata": {},
   "source": [
    "### Importing Dependencies"
   ]
  },
  {
   "cell_type": "code",
   "execution_count": 1,
   "metadata": {
    "tags": []
   },
   "outputs": [
    {
     "output_type": "stream",
     "name": "stdout",
     "text": "Requirement already up-to-date: sklearn in c:\\users\\purvi patel\\anaconda3\\lib\\site-packages (0.0)\nRequirement already satisfied, skipping upgrade: scikit-learn in c:\\users\\purvi patel\\anaconda3\\lib\\site-packages (from sklearn) (0.21.3)\nRequirement already satisfied, skipping upgrade: numpy>=1.11.0 in c:\\users\\purvi patel\\anaconda3\\lib\\site-packages (from scikit-learn->sklearn) (1.16.5)\nRequirement already satisfied, skipping upgrade: scipy>=0.17.0 in c:\\users\\purvi patel\\anaconda3\\lib\\site-packages (from scikit-learn->sklearn) (1.3.1)\nRequirement already satisfied, skipping upgrade: joblib>=0.11 in c:\\users\\purvi patel\\anaconda3\\lib\\site-packages (from scikit-learn->sklearn) (0.13.2)\nRequirement already satisfied: joblib in c:\\users\\purvi patel\\anaconda3\\lib\\site-packages (0.13.2)\n"
    }
   ],
   "source": [
    "!pip install sklearn --upgrade\n",
    "!pip install joblib\n",
    "import pandas as pd\n",
    "from sklearn.model_selection import train_test_split\n",
    "from sklearn.preprocessing import LabelEncoder, StandardScaler\n",
    "from sklearn.svm import SVC\n",
    "from sklearn.model_selection import GridSearchCV"
   ]
  },
  {
   "cell_type": "markdown",
   "metadata": {},
   "source": [
    "### Reading Data & Basic Data Cleaning"
   ]
  },
  {
   "cell_type": "code",
   "execution_count": 2,
   "metadata": {},
   "outputs": [],
   "source": [
    "keplar_data = pd.read_csv(\"Resources/exoplanet_data.csv\")\n",
    "keplar_data = keplar_data.dropna(axis='columns', how='all')\n",
    "keplar_data = keplar_data.dropna()"
   ]
  },
  {
   "cell_type": "markdown",
   "metadata": {},
   "source": [
    "### Selecting features & creating the split"
   ]
  },
  {
   "cell_type": "code",
   "execution_count": 3,
   "metadata": {},
   "outputs": [],
   "source": [
    "# This models uses the same data features as model 1, but scaling the data uses the StandardScalar (instead of MinMaxScaler)\n",
    "\n",
    "selected_features = keplar_data[['koi_fpflag_nt', 'koi_fpflag_ss', 'koi_fpflag_co', 'koi_fpflag_ec', 'koi_period', 'koi_time0bk', 'koi_impact', 'koi_duration', 'koi_depth', 'koi_prad', 'koi_teq', 'koi_insol', 'koi_model_snr', 'koi_tce_plnt_num', 'koi_steff', 'koi_slogg', 'koi_srad', 'ra', 'dec', 'koi_kepmag']]\n",
    "\n",
    "x = selected_features\n",
    "y = keplar_data[['koi_disposition']]\n",
    "\n",
    "x_train, x_test, y_train, y_test = train_test_split(x, y, random_state=42)"
   ]
  },
  {
   "cell_type": "markdown",
   "metadata": {},
   "source": [
    "### Pre-processing & Training the Model¶"
   ]
  },
  {
   "cell_type": "code",
   "execution_count": 4,
   "metadata": {
    "tags": []
   },
   "outputs": [
    {
     "output_type": "stream",
     "name": "stdout",
     "text": "Training Data Score: 0.8247186725157353\nTesting Data Score: 0.8089244851258581\n"
    }
   ],
   "source": [
    "x_scaler = StandardScaler().fit(x_train)\n",
    "y_encoded = LabelEncoder().fit(y_train)\n",
    "\n",
    "x_scaler_train = x_scaler.transform(x_train)\n",
    "x_scaler_test = x_scaler.transform(x_test)\n",
    "y_encoded_train = y_encoded.transform(y_train)\n",
    "y_encoded_test = y_encoded.transform(y_test)\n",
    "\n",
    "model2 = SVC(kernel='linear')\n",
    "model2.fit(x_scaler_train, y_encoded_train)\n",
    "predictions = model2.predict(x_scaler_test)\n",
    "\n",
    "print(f\"Training Data Score: {model2.score(x_scaler_train, y_encoded_train)}\")\n",
    "print(f\"Testing Data Score: {model2.score(x_scaler_test, y_encoded_test)}\")"
   ]
  },
  {
   "cell_type": "markdown",
   "metadata": {},
   "source": [
    "### Hyperparameter Tuning\n",
    "Using GridSearchCV to tune the model's parameters"
   ]
  },
  {
   "cell_type": "code",
   "execution_count": 5,
   "metadata": {
    "tags": []
   },
   "outputs": [
    {
     "output_type": "stream",
     "name": "stdout",
     "text": "Fitting 3 folds for each of 16 candidates, totalling 48 fits\n[CV] C=1, gamma=0.0001 ...............................................\n[Parallel(n_jobs=1)]: Using backend SequentialBackend with 1 concurrent workers.\n[CV] ................... C=1, gamma=0.0001, score=0.830, total=   0.5s\n[CV] C=1, gamma=0.0001 ...............................................\n[Parallel(n_jobs=1)]: Done   1 out of   1 | elapsed:    0.4s remaining:    0.0s\n[CV] ................... C=1, gamma=0.0001, score=0.820, total=   0.3s\n[CV] C=1, gamma=0.0001 ...............................................\n[Parallel(n_jobs=1)]: Done   2 out of   2 | elapsed:    0.7s remaining:    0.0s\n[CV] ................... C=1, gamma=0.0001, score=0.820, total=   0.3s\n[CV] C=1, gamma=0.0005 ...............................................\n[CV] ................... C=1, gamma=0.0005, score=0.830, total=   0.4s\n[CV] C=1, gamma=0.0005 ...............................................\n[CV] ................... C=1, gamma=0.0005, score=0.820, total=   0.3s\n[CV] C=1, gamma=0.0005 ...............................................\n[CV] ................... C=1, gamma=0.0005, score=0.820, total=   0.4s\n[CV] C=1, gamma=0.001 ................................................\n[CV] .................... C=1, gamma=0.001, score=0.830, total=   0.5s\n[CV] C=1, gamma=0.001 ................................................\n[CV] .................... C=1, gamma=0.001, score=0.820, total=   0.3s\n[CV] C=1, gamma=0.001 ................................................\n[CV] .................... C=1, gamma=0.001, score=0.820, total=   0.3s\n[CV] C=1, gamma=0.005 ................................................\n[CV] .................... C=1, gamma=0.005, score=0.830, total=   0.4s\n[CV] C=1, gamma=0.005 ................................................\n[CV] .................... C=1, gamma=0.005, score=0.820, total=   0.3s\n[CV] C=1, gamma=0.005 ................................................\n[CV] .................... C=1, gamma=0.005, score=0.820, total=   0.3s\n[CV] C=5, gamma=0.0001 ...............................................\n[CV] ................... C=5, gamma=0.0001, score=0.837, total=   0.8s\n[CV] C=5, gamma=0.0001 ...............................................\n[CV] ................... C=5, gamma=0.0001, score=0.825, total=   1.3s\n[CV] C=5, gamma=0.0001 ...............................................\n[CV] ................... C=5, gamma=0.0001, score=0.821, total=   1.0s\n[CV] C=5, gamma=0.0005 ...............................................\n[CV] ................... C=5, gamma=0.0005, score=0.837, total=   0.8s\n[CV] C=5, gamma=0.0005 ...............................................\n[CV] ................... C=5, gamma=0.0005, score=0.825, total=   1.3s\n[CV] C=5, gamma=0.0005 ...............................................\n[CV] ................... C=5, gamma=0.0005, score=0.821, total=   1.0s\n[CV] C=5, gamma=0.001 ................................................\n[CV] .................... C=5, gamma=0.001, score=0.837, total=   0.8s\n[CV] C=5, gamma=0.001 ................................................\n[CV] .................... C=5, gamma=0.001, score=0.825, total=   1.2s\n[CV] C=5, gamma=0.001 ................................................\n[CV] .................... C=5, gamma=0.001, score=0.821, total=   1.0s\n[CV] C=5, gamma=0.005 ................................................\n[CV] .................... C=5, gamma=0.005, score=0.837, total=   0.7s\n[CV] C=5, gamma=0.005 ................................................\n[CV] .................... C=5, gamma=0.005, score=0.825, total=   1.2s\n[CV] C=5, gamma=0.005 ................................................\n[CV] .................... C=5, gamma=0.005, score=0.821, total=   1.1s\n[CV] C=10, gamma=0.0001 ..............................................\n[CV] .................. C=10, gamma=0.0001, score=0.838, total=   1.5s\n[CV] C=10, gamma=0.0001 ..............................................\n[CV] .................. C=10, gamma=0.0001, score=0.829, total=   2.0s\n[CV] C=10, gamma=0.0001 ..............................................\n[CV] .................. C=10, gamma=0.0001, score=0.822, total=   1.3s\n[CV] C=10, gamma=0.0005 ..............................................\n[CV] .................. C=10, gamma=0.0005, score=0.838, total=   1.5s\n[CV] C=10, gamma=0.0005 ..............................................\n[CV] .................. C=10, gamma=0.0005, score=0.829, total=   2.0s\n[CV] C=10, gamma=0.0005 ..............................................\n[CV] .................. C=10, gamma=0.0005, score=0.822, total=   1.3s\n[CV] C=10, gamma=0.001 ...............................................\n[CV] ................... C=10, gamma=0.001, score=0.838, total=   1.5s\n[CV] C=10, gamma=0.001 ...............................................\n[CV] ................... C=10, gamma=0.001, score=0.829, total=   2.1s\n[CV] C=10, gamma=0.001 ...............................................\n[CV] ................... C=10, gamma=0.001, score=0.822, total=   1.3s\n[CV] C=10, gamma=0.005 ...............................................\n[CV] ................... C=10, gamma=0.005, score=0.838, total=   1.6s\n[CV] C=10, gamma=0.005 ...............................................\n[CV] ................... C=10, gamma=0.005, score=0.829, total=   2.0s\n[CV] C=10, gamma=0.005 ...............................................\n[CV] ................... C=10, gamma=0.005, score=0.822, total=   1.3s\n[CV] C=50, gamma=0.0001 ..............................................\n[CV] .................. C=50, gamma=0.0001, score=0.839, total=   4.2s\n[CV] C=50, gamma=0.0001 ..............................................\n[CV] .................. C=50, gamma=0.0001, score=0.831, total=   5.0s\n[CV] C=50, gamma=0.0001 ..............................................\n[CV] .................. C=50, gamma=0.0001, score=0.829, total=   3.3s\n[CV] C=50, gamma=0.0005 ..............................................\n[CV] .................. C=50, gamma=0.0005, score=0.839, total=   4.2s\n[CV] C=50, gamma=0.0005 ..............................................\n[CV] .................. C=50, gamma=0.0005, score=0.831, total=   5.1s\n[CV] C=50, gamma=0.0005 ..............................................\n[CV] .................. C=50, gamma=0.0005, score=0.829, total=   3.7s\n[CV] C=50, gamma=0.001 ...............................................\n[CV] ................... C=50, gamma=0.001, score=0.839, total=   4.1s\n[CV] C=50, gamma=0.001 ...............................................\n[CV] ................... C=50, gamma=0.001, score=0.831, total=   9.4s\n[CV] C=50, gamma=0.001 ...............................................\n[CV] ................... C=50, gamma=0.001, score=0.829, total=   5.7s\n[CV] C=50, gamma=0.005 ...............................................\n[CV] ................... C=50, gamma=0.005, score=0.839, total=   9.1s\n[CV] C=50, gamma=0.005 ...............................................\n[CV] ................... C=50, gamma=0.005, score=0.831, total=  11.3s\n[CV] C=50, gamma=0.005 ...............................................\n[CV] ................... C=50, gamma=0.005, score=0.829, total=   4.0s\n[Parallel(n_jobs=1)]: Done  48 out of  48 | elapsed:  1.7min finished\n-------------------------------------------------------------------------\n-------------------------------------------------------------------------\n"
    }
   ],
   "source": [
    "param_grid = {\"C\": [1, 5, 10,50],\n",
    "            \"gamma\": [0.0001, 0.0005, 0.001, 0.005]}\n",
    "grid = GridSearchCV(model2, param_grid, verbose=3)\n",
    "\n",
    "# Training the model with GridSearch\n",
    "grid.fit(x_scaler_train, y_encoded_train)\n",
    "\n",
    "print(\"-------------------------------------------------------------------------\")\n",
    "print(\"-------------------------------------------------------------------------\")"
   ]
  },
  {
   "cell_type": "code",
   "execution_count": 6,
   "metadata": {
    "tags": []
   },
   "outputs": [
    {
     "output_type": "stream",
     "name": "stdout",
     "text": "{'C': 50, 'gamma': 0.0001}\n0.8331108144192256\n"
    }
   ],
   "source": [
    "print(grid.best_params_)\n",
    "print(grid.best_score_)"
   ]
  },
  {
   "cell_type": "markdown",
   "metadata": {},
   "source": [
    "### Save the Model"
   ]
  },
  {
   "cell_type": "code",
   "execution_count": 7,
   "metadata": {},
   "outputs": [
    {
     "output_type": "execute_result",
     "data": {
      "text/plain": "['PPatel_model2.sav']"
     },
     "metadata": {},
     "execution_count": 7
    }
   ],
   "source": [
    "import joblib\n",
    "filename = 'PPatel_model2.sav'\n",
    "joblib.dump(model2, filename)"
   ]
  },
  {
   "cell_type": "code",
   "execution_count": null,
   "metadata": {},
   "outputs": [],
   "source": []
  }
 ],
 "metadata": {
  "kernelspec": {
   "display_name": "Python 3",
   "language": "python",
   "name": "python3"
  },
  "language_info": {
   "codemirror_mode": {
    "name": "ipython",
    "version": 3
   },
   "file_extension": ".py",
   "mimetype": "text/x-python",
   "name": "python",
   "nbconvert_exporter": "python",
   "pygments_lexer": "ipython3",
   "version": "3.7.4-final"
  }
 },
 "nbformat": 4,
 "nbformat_minor": 2
}